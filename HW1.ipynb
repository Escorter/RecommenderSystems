{
 "cells": [
  {
   "cell_type": "markdown",
   "id": "425a10d7-caa9-4f84-abff-f528aeb4ab80",
   "metadata": {},
   "source": [
    "### Домашняя работа к уроку 1\n",
    "### Студент: Абрамов А.В."
   ]
  },
  {
   "cell_type": "code",
   "execution_count": 17,
   "id": "6f4acf2d-e8a0-469a-8463-6dc26521c554",
   "metadata": {
    "ExecuteTime": {
     "end_time": "2023-07-25T15:43:39.357911Z",
     "start_time": "2023-07-25T15:43:39.341749Z"
    }
   },
   "outputs": [],
   "source": [
    "import numpy as np\n",
    "import pandas as pd"
   ]
  },
  {
   "cell_type": "markdown",
   "id": "38a80a25-4ea6-49c9-a0f4-c7fc2a80dcc1",
   "metadata": {},
   "source": [
    "#### 1. Реализовать метрики Recall@k и  Money Recall@k\n",
    "\n",
    "*Recall* - доля рекомендованных товаров среди релевантных = Какой % купленных товаров был среди рекомендованных\n",
    "\n",
    "$$\\Large Recall@K(i) = \\frac {\\sum_{j=1}^{K}\\mathbb{1}_{r_{ij}}}{|Rel_i|}$$\n",
    "\n",
    "$\\Large |Rel_i|$ -- количество релевантных товаров для пользователя $i$\n",
    "\n",
    "$$\\Large MoneyRecall@K(i) = \\frac {\\sum_{j=1}^{K}\\mathbb{1}_{r_{ij}}\\cdot Price(j)}{\\sum_{s\\in Rel_i}Price(s)}$$"
   ]
  },
  {
   "cell_type": "code",
   "execution_count": 3,
   "id": "34a7db81-664c-4c9b-92c0-d565fa5487fc",
   "metadata": {
    "ExecuteTime": {
     "end_time": "2023-07-25T15:25:45.331734Z",
     "start_time": "2023-07-25T15:25:45.317312Z"
    }
   },
   "outputs": [],
   "source": [
    "# функция для вычисления Recall@k\n",
    "def recall_at_k(recommended_list, bought_list, k=5):\n",
    "    \n",
    "    bought_list = np.array(bought_list)\n",
    "    recommended_list = np.array(recommended_list)\n",
    "    \n",
    "    flags = np.isin(bought_list, recommended_list[:k])\n",
    "    recall_k = flags.sum()/len(bought_list)\n",
    "    \n",
    "    return recall_k"
   ]
  },
  {
   "cell_type": "code",
   "execution_count": 66,
   "id": "8445a285",
   "metadata": {
    "ExecuteTime": {
     "end_time": "2023-07-25T18:34:28.401115Z",
     "start_time": "2023-07-25T18:34:28.381544Z"
    }
   },
   "outputs": [],
   "source": [
    "# пробные данные\n",
    "rec = [5, 8, 12, 97, 4, 19, 34, 65, 26, 74]\n",
    "bought = [12, 60, 88, 5]\n",
    "price_rec = [20, 30, 10, 15, 40, 5, 70, 100, 60, 40]\n",
    "price_bought = [10, 95, 60, 20]\n",
    "\n",
    "r = np.array(rec)\n",
    "b = np.array(bought)\n",
    "pr = np.array(price_rec)\n",
    "pb = np.array(price_bought)"
   ]
  },
  {
   "cell_type": "code",
   "execution_count": 10,
   "id": "0162da92",
   "metadata": {
    "ExecuteTime": {
     "end_time": "2023-07-25T15:28:14.464516Z",
     "start_time": "2023-07-25T15:28:14.457535Z"
    }
   },
   "outputs": [
    {
     "data": {
      "text/plain": [
       "0.25"
      ]
     },
     "execution_count": 10,
     "metadata": {},
     "output_type": "execute_result"
    }
   ],
   "source": [
    "recall_at_k(r, b, k=2)"
   ]
  },
  {
   "cell_type": "code",
   "execution_count": 14,
   "id": "4ed1a0b1",
   "metadata": {
    "ExecuteTime": {
     "end_time": "2023-07-25T15:41:07.941882Z",
     "start_time": "2023-07-25T15:41:07.924821Z"
    }
   },
   "outputs": [],
   "source": [
    "# функция для вычисления Money Recall@k\n",
    "def money_recall_at_k(recommended_list, bought_list, prices_recommended, prices_bought, k=5):\n",
    "    \n",
    "    bought_list = np.array(bought_list)\n",
    "    recommended_list = np.array(recommended_list)\n",
    "    prices_recommended = np.array(prices_recommended)\n",
    "    prices_bought = np.array(prices_bought)\n",
    "    \n",
    "    flags = np.isin(bought_list, recommended_list[:k])\n",
    "    total_bought = flags@price_bought\n",
    "    money_recall_k = total_bought/prices_bought.sum()\n",
    "    \n",
    "    return money_recall_k"
   ]
  },
  {
   "cell_type": "code",
   "execution_count": 16,
   "id": "253ebfa4",
   "metadata": {
    "ExecuteTime": {
     "end_time": "2023-07-25T15:42:22.464297Z",
     "start_time": "2023-07-25T15:42:22.445036Z"
    }
   },
   "outputs": [
    {
     "data": {
      "text/plain": [
       "0.10810810810810811"
      ]
     },
     "execution_count": 16,
     "metadata": {},
     "output_type": "execute_result"
    }
   ],
   "source": [
    "money_recall_at_k(r, b, pr, pb, k=2)"
   ]
  },
  {
   "cell_type": "markdown",
   "id": "b42d4d0d-6073-47b6-ad54-586a477405e5",
   "metadata": {},
   "source": [
    "#### 2. Реализовать метрику MRR@k\n",
    "\n",
    "Mean Reciprocal Rank\n",
    "\n",
    "- Считаем для первых k рекоммендаций\n",
    "- Найти ранк первого релевантного предсказания $\\Large rank_j$\n",
    "- Посчитать reciprocal rank = $\\Large\\frac{1}{rank_j}$\n",
    "\n",
    "$$\\Large  ReciprocalRank(i)@k=\\frac {1}{\\min\\limits_{j\\in Rel(i)} rank_j}$$"
   ]
  },
  {
   "cell_type": "code",
   "execution_count": 62,
   "id": "9c8940da-3621-4a54-8236-810a42ed4b77",
   "metadata": {
    "ExecuteTime": {
     "end_time": "2023-07-25T18:32:57.632781Z",
     "start_time": "2023-07-25T18:32:57.624803Z"
    }
   },
   "outputs": [],
   "source": [
    "# функция для вычисления MRR@k\n",
    "def reciprocal_rank_at_k(recommended_list, bought_list, k=5):\n",
    "    \n",
    "    bought_list = np.array(bought_list)\n",
    "    recommended_list = np.array(recommended_list)\n",
    "    \n",
    "    for i in range(k):\n",
    "        if recommended_list[i] in bought_list:\n",
    "            rank_k = 1/(i+1)\n",
    "            break\n",
    "    \n",
    "    return rank_k"
   ]
  },
  {
   "cell_type": "code",
   "execution_count": 67,
   "id": "fb1075aa",
   "metadata": {
    "ExecuteTime": {
     "end_time": "2023-07-25T18:34:34.639201Z",
     "start_time": "2023-07-25T18:34:34.629228Z"
    }
   },
   "outputs": [
    {
     "data": {
      "text/plain": [
       "1.0"
      ]
     },
     "execution_count": 67,
     "metadata": {},
     "output_type": "execute_result"
    }
   ],
   "source": [
    "reciprocal_rank_at_k(r, b, k=5)"
   ]
  },
  {
   "cell_type": "markdown",
   "id": "1c3008cc-fd9e-44c6-8913-43d71ffb9cd7",
   "metadata": {},
   "source": [
    "#### 3*. Реализовать метрику nDCG@k\n",
    "Normalized discounted cumulative gain. Эту метрику реализовать будет немного сложнее.\n",
    "\n",
    "$$\\Large DCG@K(i) = \\sum_{j=1}^{K}\\frac{\\mathbb{1}_{r_{ij}}}{\\log_2 (j+1)}$$\n",
    "\n",
    "\n",
    "$\\Large \\mathbb{1}_{r_{ij}}$ -- индикаторная функция показывает что пользователь $i$ провзаимодействовал с продуктом $j$\n",
    "\n",
    "Для подсчета $nDCG$ нам необходимо найти максимально возможный $DCG$ для пользователя $i$  и рекомендаций длины $K$.\n",
    "Максимальный $DCG$ достигается когда мы порекомендовали максимально возможное количество релевантных продуктов и все они в начале списка рекомендаций.\n",
    "\n",
    "$$\\Large IDCG@K(i) = max(DCG@K(i)) = \\sum_{j=1}^{K}\\frac{\\mathbb{1}_{j\\le|Rel_i|}}{\\log_2 (j+1)}$$\n",
    "\n",
    "$$\\Large nDCG@K(i) = \\frac {DCG@K(i)}{IDCG@K(i)}$$\n",
    "\n",
    "$\\Large |Rel_i|$ -- количество релевантных продуктов для пользователя $i$\n",
    "\n"
   ]
  },
  {
   "cell_type": "code",
   "execution_count": 59,
   "id": "67d7e53c-dfd8-4423-a107-f85880a45c7e",
   "metadata": {
    "ExecuteTime": {
     "end_time": "2023-07-25T17:27:18.882310Z",
     "start_time": "2023-07-25T17:27:18.865403Z"
    }
   },
   "outputs": [],
   "source": [
    "# функция для вычисления nDCG@k\n",
    "def ndcg_at_k(recommended_list, bought_list, k=5):\n",
    "    \n",
    "    bought_list = np.array(bought_list)\n",
    "    recommended_list = np.array(recommended_list)\n",
    "    \n",
    "    log_list = np.array([1/(np.log2(i+2)) for i in range(k)])\n",
    "    flags = np.isin(recommended_list[:k], bought_list)\n",
    "    \n",
    "    ideal = []\n",
    "    for i in range(k):\n",
    "        if i<len(bought_list):\n",
    "            ideal.append(1)\n",
    "        else:\n",
    "            ideal.append(0)\n",
    "    ideal = np.array(ideal)\n",
    "    \n",
    "    idcg_k = sum(log_list*ideal)/k\n",
    "    dcg_k = (log_list@flags)/k\n",
    "    ndcg_k = dcg_k/idcg_k\n",
    "    \n",
    "    return ndcg_k"
   ]
  },
  {
   "cell_type": "code",
   "execution_count": 60,
   "id": "97e84e80",
   "metadata": {
    "ExecuteTime": {
     "end_time": "2023-07-25T17:27:20.637822Z",
     "start_time": "2023-07-25T17:27:20.622862Z"
    }
   },
   "outputs": [
    {
     "data": {
      "text/plain": [
       "0.5855700749881525"
      ]
     },
     "execution_count": 60,
     "metadata": {},
     "output_type": "execute_result"
    }
   ],
   "source": [
    "ndcg_at_k(r, b, k=5)"
   ]
  }
 ],
 "metadata": {
  "kernelspec": {
   "display_name": "Python 3 (ipykernel)",
   "language": "python",
   "name": "python3"
  },
  "language_info": {
   "codemirror_mode": {
    "name": "ipython",
    "version": 3
   },
   "file_extension": ".py",
   "mimetype": "text/x-python",
   "name": "python",
   "nbconvert_exporter": "python",
   "pygments_lexer": "ipython3",
   "version": "3.9.12"
  },
  "varInspector": {
   "cols": {
    "lenName": 16,
    "lenType": 16,
    "lenVar": 40
   },
   "kernels_config": {
    "python": {
     "delete_cmd_postfix": "",
     "delete_cmd_prefix": "del ",
     "library": "var_list.py",
     "varRefreshCmd": "print(var_dic_list())"
    },
    "r": {
     "delete_cmd_postfix": ") ",
     "delete_cmd_prefix": "rm(",
     "library": "var_list.r",
     "varRefreshCmd": "cat(var_dic_list()) "
    }
   },
   "types_to_exclude": [
    "module",
    "function",
    "builtin_function_or_method",
    "instance",
    "_Feature"
   ],
   "window_display": false
  }
 },
 "nbformat": 4,
 "nbformat_minor": 5
}
